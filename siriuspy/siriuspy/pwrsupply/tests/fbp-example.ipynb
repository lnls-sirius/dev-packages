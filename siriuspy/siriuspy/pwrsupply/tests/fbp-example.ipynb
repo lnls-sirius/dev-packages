{
 "cells": [
  {
   "cell_type": "markdown",
   "metadata": {},
   "source": [
    "## Using BSMP Commands"
   ]
  },
  {
   "cell_type": "code",
   "execution_count": 3,
   "metadata": {},
   "outputs": [],
   "source": [
    "from siriuspy.pwrsupply.bsmp.constants import ConstPSBSMP as _c\n",
    "from siriuspy.pwrsupply.bsmp.commands import FBP\n",
    "from siriuspy.pwrsupply.pructrl.pru import PRU\n",
    "from PRUserial485 import EthBridgeClient as _EthBridgeClient\n",
    "\n",
    "\n",
    "import utils\n",
    "\n",
    "\n",
    "def  create_fbp(bbbname, device_id):\n",
    "    \"\"\".\"\"\"\n",
    "    pru = PRU(ethbridgeclnt_class=_EthBridgeClient, bbbname=bbbname)\n",
    "    ps = FBP(slave_address=device_id, pru=pru)\n",
    "    return ps"
   ]
  },
  {
   "cell_type": "code",
   "execution_count": 38,
   "metadata": {},
   "outputs": [
    {
     "name": "stdout",
     "output_type": "stream",
     "text": [
      "BEAGLEBONE:  IA-01RaCtrl:CO-PSCtrl-BO\n",
      "IP_ADDRESS:  10.128.101.105\n",
      "cmd :  read_variable\n",
      "ack :  224\n",
      "data:  0.0\n",
      "\n",
      "cmd :  read_group_of_variables\n",
      "ack :  224\n",
      "data:  [390, 0.0, 0.5795004367828369, [b'0', b'.', b'4', b'4', b'.', b'0', b'1', b' ', b' ', b' ', b' ', b'0', b'8', b'/', b'2', b'2', b'0', b'.', b'4', b'4', b'.', b'0', b'1', b' ', b' ', b' ', b' ', b'0', b'8', b'/', b'2', b'2', b'\\x00', b'\\x00', b'\\x00', b'\\x00', b'\\x00', b'\\x00', b'\\x00', b'\\x00', b'\\x00', b'\\x00', b'\\x00', b'\\x00', b'\\x00', b'\\x00', b'\\x00', b'\\x00', b'\\x00', b'\\x00', b'\\x00', b'\\x00', b'\\x00', b'\\x00', b'\\x00', b'\\x00', b'\\x00', b'\\x00', b'\\x00', b'\\x00', b'\\x00', b'\\x00', b'\\x00', b'\\x00', b'\\x00', b'\\x00', b'\\x00', b'\\x00', b'\\x00', b'\\x00', b'\\x00', b'\\x00', b'\\x00', b'\\x00', b'\\x00', b'\\x00', b'\\x00', b'\\x00', b'\\x00', b'\\x00', b'\\x00', b'\\x00', b'\\x00', b'\\x00', b'\\x00', b'\\x00', b'\\x00', b'\\x00', b'\\x00', b'\\x00', b'\\x00', b'\\x00', b'\\x00', b'\\x00', b'\\x00', b'\\x00', b'\\x00', b'\\x00', b'\\x00', b'\\x00', b'\\x00', b'\\x00', b'\\x00', b'\\x00', b'\\x00', b'\\x00', b'\\x00', b'\\x00', b'\\x00', b'\\x00', b'\\x00', b'\\x00', b'\\x00', b'\\x00', b'\\x00', b'\\x00', b'\\x00', b'\\x00', b'\\x00', b'\\x00', b'\\x00', b'\\x00', b'\\x00', b'\\x00', b'\\x00', b'\\x00', b'\\x00', b'\\x00'], 1037, 21492669, 0, 1, 20, 0.0, 2.0, 10.0, 0.0, [0.0, 0.0, 2.0, 0.0], 0, 2, 2000.0, 1.0, 0.0, 57344, 59302, 57946, 59392, 61350, 61352, 2000.0, 0.5119999647140503, 53256, 25012, 0, 0, 0, 0, 0.5811195373535156, 0.13808594644069672, 7.353515625, 0.0, 0.05750684812664986, 0, 0, 0, 0, 0, 0, 0, 0, 390, 390, 390, 256, 0.0, 0.0, 0.0, 0.0, 0.5793026685714722, -0.5616105198860168, 0.0, 0.0, 0, 0, 0, 0, 0, 0, 0, 0, 0.5806427001953125, -0.562286376953125, -0.0004405975341796875, 0.0, 0, 0, 0, 0]\n",
      "\n"
     ]
    }
   ],
   "source": [
    "# ps = create_fbp(bbbname='IA-11RaCtrl:CO-PSCtrl-SI4', device_id=1)  # SI-11C1:PS-CH\n",
    "# ps = create_fbp(bbbname='PA-RaPSB06:CO-PSCtrl-SI1', device_id=3)  # SI-Fam:PS-SDA1\n",
    "# ps = create_fbp(bbbname='LA-RaCtrl:CO-PSCtrl-TB2', device_id=1)  # TB-01:PS-CH-1\n",
    "ps = create_fbp(bbbname='IA-01RaCtrl:CO-PSCtrl-BO', device_id=1)  # BO-01U:PS-CH, BO-01U:PS-CV, BO-02D:PS-QS\n",
    "\n",
    "# ack, data = ps.remove_all_groups_of_variables(timeout=100)\n",
    "# print('cmd : ', 'remove_all')\n",
    "# print('ack : ', ack)\n",
    "# print('data: ', data)\n",
    "# print()\n",
    "\n",
    "ack, data = ps.read_variable(_c.V_PS_SETPOINT, timeout=100)\n",
    "print('cmd : ', 'read_variable')\n",
    "print('ack : ', ack)\n",
    "print('data: ', data)\n",
    "print()\n",
    "\n",
    "ack, data = ps.read_group_of_variables(group_id=0, timeout=100)\n",
    "print('cmd : ', 'read_group_of_variables')\n",
    "print('ack : ', ack)\n",
    "print('data: ', data)\n",
    "print()\n",
    "\n",
    "# data = ps.parameter_read(eid=8)\n",
    "# print('cmd : ', 'parameter_read(eid=8)')\n",
    "# print('data: ', data)\n",
    "# print()\n",
    "\n",
    "# data = ps.parameter_read(eid=8, index=2)\n",
    "# print('cmd : ', 'parameter_read(eid=8, index=2)')\n",
    "# print('data: ', data)\n",
    "# print()\n",
    "\n",
    "# PS NAME\n",
    "\n",
    "# psnames = ps.parameter_read(eid=0)\n",
    "# print('cmd : ', 'parameter_read(eid=0)')\n",
    "# print('data: ', psnames)\n",
    "# print()\n",
    "\n",
    "# psnames2 = psnames.replace(' / ', ',')\n",
    "# ps.parameter_write(eid=0, value=psnames2)\n",
    "# print('cmd : ', 'parameter_write(eid=0, psnames2)')\n",
    "# print()\n",
    "\n",
    "# psnames3 = ps.parameter_read(eid=0)\n",
    "# print('cmd : ', 'parameter_read(eid=0)')\n",
    "# print('data: ', psnames3)\n",
    "# print()\n",
    "\n",
    "# ps.parameter_write(eid=0, value=psnames)\n",
    "# print('cmd : ', 'parameter_write(eid=0, psnames)')\n",
    "# print()\n",
    "\n",
    "# psnames = ps.parameter_read(eid=0)\n",
    "# print('cmd : ', 'parameter_read(eid=0)')\n",
    "# print('data: ', psnames)\n",
    "# print()"
   ]
  },
  {
   "cell_type": "code",
   "execution_count": 41,
   "metadata": {},
   "outputs": [
    {
     "data": {
      "text/plain": [
       "(224, 2)"
      ]
     },
     "execution_count": 41,
     "metadata": {},
     "output_type": "execute_result"
    }
   ],
   "source": [
    "ps.read_variable(_c.V_WFMREF_SYNC_MODE, timeout=100)"
   ]
  },
  {
   "cell_type": "markdown",
   "metadata": {},
   "source": [
    "## Using BBB"
   ]
  },
  {
   "cell_type": "code",
   "execution_count": 1,
   "metadata": {},
   "outputs": [],
   "source": [
    "from PRUserial485 import EthBridgeClient as _EthBridgeClient\n",
    "from siriuspy.pwrsupply.factory import BBBFactory\n",
    "\n",
    "import utils"
   ]
  },
  {
   "cell_type": "code",
   "execution_count": 2,
   "metadata": {},
   "outputs": [],
   "source": [
    "bbbname = 'LA-RaCtrl:CO-PSCtrl-TB2'  # TB-01 and TB-02 Chs and CVs\n",
    "# bbbname = 'IA-01RaCtrl:CO-PSCtrl-BO'  # BO-01U:PS-CH, BO-01U:PS-CV, BO-02D:PS-QS"
   ]
  },
  {
   "cell_type": "code",
   "execution_count": 3,
   "metadata": {},
   "outputs": [
    {
     "name": "stdout",
     "output_type": "stream",
     "text": [
      "BEAGLEBONE:  LA-RaCtrl:CO-PSCtrl-TB2\n",
      "IP_ADDRESS:  10.128.121.104\n",
      "UDC:  LA-RaPS06:PS-UDC-TB4 , DEVICES:  [('TB-01:PS-CH-1', 1), ('TB-01:PS-CV-1', 2), ('TB-01:PS-CH-2', 3), ('TB-01:PS-CV-2', 4)]\n",
      "UDC:  LA-RaPS06:PS-UDC-TB5 , DEVICES:  [('TB-02:PS-CH-1', 5), ('TB-02:PS-CV-1', 6), ('TB-02:PS-CH-2', 7), ('TB-02:PS-CV-2', 8)]\n",
      "UDC:  LA-RaPS06:PS-UDC-TB6 , DEVICES:  [('TB-04:PS-CH-1', 9), ('TB-04:PS-CV-1', 10), ('TB-04:PS-CH-2', 11), ('TB-04:PS-CV-2', 12)]\n",
      "\n",
      "PRUController: struct initialization\n",
      "devices: [('TB-01:PS-CH-1', 1), ('TB-01:PS-CV-1', 2), ('TB-01:PS-CH-2', 3), ('TB-01:PS-CV-2', 4), ('TB-02:PS-CH-1', 5), ('TB-02:PS-CV-1', 6), ('TB-02:PS-CH-2', 7), ('TB-02:PS-CV-2', 8), ('TB-04:PS-CH-1', 9), ('TB-04:PS-CV-1', 10), ('TB-04:PS-CH-2', 11), ('TB-04:PS-CV-2', 12)]\n",
      "device_id: 1, scan_freq:  5.0 Hz\n",
      "device_id: 2, scan_freq:  5.0 Hz\n",
      "device_id: 3, scan_freq:  5.0 Hz\n",
      "device_id: 4, scan_freq:  5.0 Hz\n",
      "device_id: 5, scan_freq:  5.0 Hz\n",
      "device_id: 6, scan_freq:  5.0 Hz\n",
      "device_id: 7, scan_freq:  5.0 Hz\n",
      "device_id: 8, scan_freq:  5.0 Hz\n",
      "device_id: 9, scan_freq:  5.0 Hz\n",
      "device_id:10, scan_freq:  5.0 Hz\n",
      "device_id:11, scan_freq:  5.0 Hz\n",
      "device_id:12, scan_freq:  5.0 Hz\n",
      "\n",
      "TIMING struct init [16.394 ms]\n"
     ]
    }
   ],
   "source": [
    "bbb, *_ = BBBFactory.create(ethbridgeclnt_class=_EthBridgeClient, bbbname=bbbname)"
   ]
  },
  {
   "cell_type": "code",
   "execution_count": 6,
   "metadata": {},
   "outputs": [
    {
     "data": {
      "text/plain": [
       "('TB-01:PS-CH-1',\n",
       " 'TB-01:PS-CV-1',\n",
       " 'TB-01:PS-CH-2',\n",
       " 'TB-01:PS-CV-2',\n",
       " 'TB-02:PS-CH-1',\n",
       " 'TB-02:PS-CV-1',\n",
       " 'TB-02:PS-CH-2',\n",
       " 'TB-02:PS-CV-2',\n",
       " 'TB-04:PS-CH-1',\n",
       " 'TB-04:PS-CV-1',\n",
       " 'TB-04:PS-CH-2',\n",
       " 'TB-04:PS-CV-2')"
      ]
     },
     "execution_count": 6,
     "metadata": {},
     "output_type": "execute_result"
    }
   ],
   "source": [
    "bbb.psnames"
   ]
  },
  {
   "cell_type": "code",
   "execution_count": 5,
   "metadata": {},
   "outputs": [
    {
     "name": "stdout",
     "output_type": "stream",
     "text": [
      "\n",
      "PRUController: bsmp initialization\n",
      "  - bsmp_init_devices    (    reset groups    ) [00034.330] ms\n",
      "  - bsmp_init_devices    (   update groups    ) [00085.850] ms\n",
      "  - bsmp_init_devices    ( bufsample_disable  ) [00517.204] ms\n",
      "  - bsmp_init_update     (  variable_values   ) [00037.442] ms\n",
      "  - bsmp_init_update     (  waveform_values   ) [00580.199] ms\n",
      "  - bsmp_init_update     (    sofb_values     ) [00003.007] ms\n",
      "  - bsmp_init_update     (  parameter_values  ) [06977.127] ms\n",
      "  - init_threads         ( create structures  ) [00000.100] ms\n",
      "TIMING bsmp init [8236.797 ms]\n",
      "\n"
     ]
    }
   ],
   "source": [
    "bbb.init(processing=False, scanning=False)"
   ]
  },
  {
   "cell_type": "code",
   "execution_count": 6,
   "metadata": {},
   "outputs": [],
   "source": [
    "psname = bbb.psnames[0]\n",
    "\n",
    "utils.update_bbb(bbb)\n",
    "\n",
    "# print(bbb.read(psname, 'OpMode-Sts'))\n",
    "# print(bbb.read(psname, 'WfmSyncMode-Sts'))\n",
    "# print(bbb.read(psname, 'WfmSelected-RB'))"
   ]
  },
  {
   "cell_type": "code",
   "execution_count": 5,
   "metadata": {},
   "outputs": [
    {
     "data": {
      "text/plain": [
       "{'TB-01:PS-CH-1': ('Kick', 'WfmOffsetKick'),\n",
       " 'TB-01:PS-CV-1': ('Kick', 'WfmOffsetKick'),\n",
       " 'TB-01:PS-CH-2': ('Kick', 'WfmOffsetKick'),\n",
       " 'TB-01:PS-CV-2': ('Kick', 'WfmOffsetKick'),\n",
       " 'TB-02:PS-CH-1': ('Kick', 'WfmOffsetKick'),\n",
       " 'TB-02:PS-CV-1': ('Kick', 'WfmOffsetKick'),\n",
       " 'TB-02:PS-CH-2': ('Kick', 'WfmOffsetKick'),\n",
       " 'TB-02:PS-CV-2': ('Kick', 'WfmOffsetKick'),\n",
       " 'TB-04:PS-CH-1': ('Kick', 'WfmOffsetKick'),\n",
       " 'TB-04:PS-CV-1': ('Kick', 'WfmOffsetKick'),\n",
       " 'TB-04:PS-CH-2': ('Kick', 'WfmOffsetKick'),\n",
       " 'TB-04:PS-CV-2': ('Kick', 'WfmOffsetKick')}"
      ]
     },
     "execution_count": 5,
     "metadata": {},
     "output_type": "execute_result"
    }
   ],
   "source": [
    "bbb._strenames"
   ]
  },
  {
   "cell_type": "code",
   "execution_count": 11,
   "metadata": {},
   "outputs": [
    {
     "data": {
      "text/plain": [
       "{'type': 'float', 'value': 0.0, 'prec': 3, 'unit': 'urad'}"
      ]
     },
     "execution_count": 11,
     "metadata": {},
     "output_type": "execute_result"
    }
   ],
   "source": [
    "bbb._databases['TB-01:PS-CH-1']['Kick-SP']"
   ]
  },
  {
   "cell_type": "code",
   "execution_count": null,
   "metadata": {},
   "outputs": [],
   "source": []
  },
  {
   "cell_type": "code",
   "execution_count": null,
   "metadata": {},
   "outputs": [],
   "source": []
  },
  {
   "cell_type": "code",
   "execution_count": null,
   "metadata": {},
   "outputs": [],
   "source": []
  },
  {
   "cell_type": "code",
   "execution_count": 7,
   "metadata": {},
   "outputs": [],
   "source": [
    "c = bbb.controllers[psname]"
   ]
  },
  {
   "cell_type": "code",
   "execution_count": 6,
   "metadata": {},
   "outputs": [
    {
     "name": "stdout",
     "output_type": "stream",
     "text": [
      "ScopeFreq-RB\n",
      "ParamPWMFreq-Cte\n",
      "WfmFreq-SP\n",
      "ParamHRADCFreqSampling-Cte\n",
      "ParamCtrlFreqTimeSlicer-Cte\n",
      "ParamCtrlFreqCtrlISR-Cte\n",
      "ScopeFreq-SP\n",
      "WfmFreq-RB\n",
      "ParamScopeSamplingFreq-Cte\n",
      "ParamSigGenFreq-Cte\n",
      "CycleFreq-SP\n",
      "ParamWfmRefFreq-Cte\n",
      "CycleFreq-RB\n"
     ]
    }
   ],
   "source": [
    "for field in c.fields:\n",
    "    if 'Freq' in field:\n",
    "        print(field)"
   ]
  },
  {
   "cell_type": "code",
   "execution_count": 9,
   "metadata": {},
   "outputs": [],
   "source": [
    "w = c._writers['TB-01:PS-CV-1:WfmFreq-SP']"
   ]
  },
  {
   "cell_type": "code",
   "execution_count": 15,
   "metadata": {},
   "outputs": [
    {
     "data": {
      "text/plain": [
       "{'type': 'float', 'value': 2000.0, 'unit': 'Hz'}"
      ]
     },
     "execution_count": 15,
     "metadata": {},
     "output_type": "execute_result"
    }
   ],
   "source": [
    "w._setpoints.database"
   ]
  },
  {
   "cell_type": "code",
   "execution_count": null,
   "metadata": {},
   "outputs": [],
   "source": []
  }
 ],
 "metadata": {
  "kernelspec": {
   "display_name": "Python 3",
   "language": "python",
   "name": "python3"
  },
  "language_info": {
   "codemirror_mode": {
    "name": "ipython",
    "version": 3
   },
   "file_extension": ".py",
   "mimetype": "text/x-python",
   "name": "python",
   "nbconvert_exporter": "python",
   "pygments_lexer": "ipython3",
   "version": "3.6.8"
  }
 },
 "nbformat": 4,
 "nbformat_minor": 2
}
