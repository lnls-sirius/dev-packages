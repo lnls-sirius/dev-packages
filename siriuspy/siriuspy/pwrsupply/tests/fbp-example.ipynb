{
 "cells": [
  {
   "cell_type": "code",
   "execution_count": 2,
   "metadata": {},
   "outputs": [],
   "source": [
    "from siriuspy.pwrsupply.bsmp.commands import FBP\n",
    "from siriuspy.pwrsupply.pructrl.pru import PRU\n",
    "from PRUserial485 import EthBridgeClient as _EthBridgeClient\n",
    "\n",
    "\n",
    "def  create_fbp(bbbname, device_id):\n",
    "    \"\"\".\"\"\"\n",
    "    pru = PRU(ethbridgeclnt_class=_EthBridgeClient, bbbname=bbbname)\n",
    "    ps = FBP(slave_address=device_id, pru=pru)\n",
    "    return ps"
   ]
  },
  {
   "cell_type": "code",
   "execution_count": 4,
   "metadata": {},
   "outputs": [
    {
     "name": "stdout",
     "output_type": "stream",
     "text": [
      "BEAGLEBONE:  LA-RaCtrl:CO-PSCtrl-TB2\n",
      "IP_ADDRESS:  10.128.121.104\n"
     ]
    },
    {
     "ename": "timeout",
     "evalue": "timed out",
     "output_type": "error",
     "traceback": [
      "\u001b[0;31m---------------------------------------------------------------------------\u001b[0m",
      "\u001b[0;31mtimeout\u001b[0m                                   Traceback (most recent call last)",
      "Cell \u001b[0;32mIn[4], line 3\u001b[0m\n\u001b[1;32m      1\u001b[0m \u001b[38;5;66;03m# ps = create_fbp(bbbname='IA-11RaCtrl:CO-PSCtrl-SI4', device_id=1)  # SI-11C1:PS-CH\u001b[39;00m\n\u001b[1;32m      2\u001b[0m \u001b[38;5;66;03m# ps = create_fbp(bbbname='PA-RaPSB06:CO-PSCtrl-SI1', device_id=3)  # SI-Fam:PS-SDA1\u001b[39;00m\n\u001b[0;32m----> 3\u001b[0m ps \u001b[38;5;241m=\u001b[39m \u001b[43mcreate_fbp\u001b[49m\u001b[43m(\u001b[49m\u001b[43mbbbname\u001b[49m\u001b[38;5;241;43m=\u001b[39;49m\u001b[38;5;124;43m'\u001b[39;49m\u001b[38;5;124;43mLA-RaCtrl:CO-PSCtrl-TB2\u001b[39;49m\u001b[38;5;124;43m'\u001b[39;49m\u001b[43m,\u001b[49m\u001b[43m \u001b[49m\u001b[43mdevice_id\u001b[49m\u001b[38;5;241;43m=\u001b[39;49m\u001b[38;5;241;43m1\u001b[39;49m\u001b[43m)\u001b[49m  \u001b[38;5;66;03m# TB-01:PS-CH-1\u001b[39;00m\n\u001b[1;32m      6\u001b[0m \u001b[38;5;66;03m# ack, data = ps.remove_all_groups_of_variables(timeout=100)\u001b[39;00m\n\u001b[1;32m      7\u001b[0m \u001b[38;5;66;03m# print('cmd : ', 'remove_all')\u001b[39;00m\n\u001b[1;32m      8\u001b[0m \u001b[38;5;66;03m# print('ack : ', ack)\u001b[39;00m\n\u001b[0;32m   (...)\u001b[0m\n\u001b[1;32m     57\u001b[0m \u001b[38;5;66;03m# print('data: ', psnames)\u001b[39;00m\n\u001b[1;32m     58\u001b[0m \u001b[38;5;66;03m# print()\u001b[39;00m\n",
      "Cell \u001b[0;32mIn[2], line 8\u001b[0m, in \u001b[0;36mcreate_fbp\u001b[0;34m(bbbname, device_id)\u001b[0m\n\u001b[1;32m      6\u001b[0m \u001b[38;5;28;01mdef\u001b[39;00m  \u001b[38;5;21mcreate_fbp\u001b[39m(bbbname, device_id):\n\u001b[1;32m      7\u001b[0m \u001b[38;5;250m    \u001b[39m\u001b[38;5;124;03m\"\"\".\"\"\"\u001b[39;00m\n\u001b[0;32m----> 8\u001b[0m     pru \u001b[38;5;241m=\u001b[39m \u001b[43mPRU\u001b[49m\u001b[43m(\u001b[49m\u001b[43methbridgeclnt_class\u001b[49m\u001b[38;5;241;43m=\u001b[39;49m\u001b[43m_EthBridgeClient\u001b[49m\u001b[43m,\u001b[49m\u001b[43m \u001b[49m\u001b[43mbbbname\u001b[49m\u001b[38;5;241;43m=\u001b[39;49m\u001b[43mbbbname\u001b[49m\u001b[43m)\u001b[49m\n\u001b[1;32m      9\u001b[0m     ps \u001b[38;5;241m=\u001b[39m FBP(slave_address\u001b[38;5;241m=\u001b[39mdevice_id, pru\u001b[38;5;241m=\u001b[39mpru)\n\u001b[1;32m     10\u001b[0m     \u001b[38;5;28;01mreturn\u001b[39;00m ps\n",
      "File \u001b[0;32m~/repos/dev-packages/siriuspy/siriuspy/pwrsupply/pructrl/pru.py:88\u001b[0m, in \u001b[0;36mPRU.__init__\u001b[0;34m(self, ethbridgeclnt_class, bbbname, ip_address)\u001b[0m\n\u001b[1;32m     85\u001b[0m \u001b[38;5;28mself\u001b[39m\u001b[38;5;241m.\u001b[39m_ip_address \u001b[38;5;241m=\u001b[39m ip_address\n\u001b[1;32m     87\u001b[0m \u001b[38;5;66;03m# start communication threads\u001b[39;00m\n\u001b[0;32m---> 88\u001b[0m \u001b[38;5;28mself\u001b[39m\u001b[38;5;241m.\u001b[39m_ethbridge \u001b[38;5;241m=\u001b[39m \u001b[43methbridgeclnt_class\u001b[49m\u001b[43m(\u001b[49m\u001b[43mip_address\u001b[49m\u001b[38;5;241;43m=\u001b[39;49m\u001b[43mip_address\u001b[49m\u001b[43m)\u001b[49m\n\u001b[1;32m     90\u001b[0m \u001b[38;5;66;03m# init PRUserial485 interface\u001b[39;00m\n\u001b[1;32m     91\u001b[0m PRUInterface\u001b[38;5;241m.\u001b[39m\u001b[38;5;21m__init__\u001b[39m(\u001b[38;5;28mself\u001b[39m)\n",
      "File \u001b[0;32m~/repos/eth-bridge-pru-serial485/client/PRUserial485/PRUserial485.py:458\u001b[0m, in \u001b[0;36mEthBridgeClient.__init__\u001b[0;34m(self, ip_address)\u001b[0m\n\u001b[1;32m    454\u001b[0m \u001b[38;5;28msuper\u001b[39m()\u001b[38;5;241m.\u001b[39m\u001b[38;5;21m__init__\u001b[39m(ip_address)\n\u001b[1;32m    456\u001b[0m \u001b[38;5;66;03m# NOTE: Should I connect here with option #1, #2 or should I leave\u001b[39;00m\n\u001b[1;32m    457\u001b[0m \u001b[38;5;66;03m# it for the first interaction with the server?\u001b[39;00m\n\u001b[0;32m--> 458\u001b[0m \u001b[38;5;28;43mself\u001b[39;49m\u001b[38;5;241;43m.\u001b[39;49m\u001b[43mconnect_socket\u001b[49m\u001b[43m(\u001b[49m\u001b[43m)\u001b[49m\n",
      "File \u001b[0;32m~/repos/eth-bridge-pru-serial485/client/PRUserial485/PRUserial485.py:473\u001b[0m, in \u001b[0;36mEthBridgeClient.connect_socket\u001b[0;34m(self)\u001b[0m\n\u001b[1;32m    471\u001b[0m \u001b[38;5;28;01mdef\u001b[39;00m \u001b[38;5;21mconnect_socket\u001b[39m(\u001b[38;5;28mself\u001b[39m):\n\u001b[1;32m    472\u001b[0m \u001b[38;5;250m    \u001b[39m\u001b[38;5;124;03m\"\"\"Open a socket connection.\"\"\"\u001b[39;00m\n\u001b[0;32m--> 473\u001b[0m     \u001b[38;5;28;43mself\u001b[39;49m\u001b[38;5;241;43m.\u001b[39;49m\u001b[43m_socket_connect\u001b[49m\u001b[43m(\u001b[49m\u001b[43mSERVER_PORT_RW\u001b[49m\u001b[43m)\u001b[49m\n",
      "File \u001b[0;32m~/repos/eth-bridge-pru-serial485/client/PRUserial485/PRUserial485.py:197\u001b[0m, in \u001b[0;36m_EthBridgeClientCommonInterface._socket_connect\u001b[0;34m(self, conn_port)\u001b[0m\n\u001b[1;32m    194\u001b[0m     \u001b[38;5;28mself\u001b[39m\u001b[38;5;241m.\u001b[39msocket \u001b[38;5;241m=\u001b[39m socket\u001b[38;5;241m.\u001b[39msocket(socket\u001b[38;5;241m.\u001b[39mAF_INET, socket\u001b[38;5;241m.\u001b[39mSOCK_STREAM)\n\u001b[1;32m    195\u001b[0m \u001b[38;5;28mself\u001b[39m\u001b[38;5;241m.\u001b[39msocket\u001b[38;5;241m.\u001b[39msettimeout(DEFAULT_TIMEOUT)\n\u001b[0;32m--> 197\u001b[0m \u001b[38;5;28;43mself\u001b[39;49m\u001b[38;5;241;43m.\u001b[39;49m\u001b[43msocket\u001b[49m\u001b[38;5;241;43m.\u001b[39;49m\u001b[43mconnect\u001b[49m\u001b[43m(\u001b[49m\u001b[43m(\u001b[49m\u001b[38;5;28;43mself\u001b[39;49m\u001b[38;5;241;43m.\u001b[39;49m\u001b[43m_bbb_ip\u001b[49m\u001b[43m,\u001b[49m\u001b[43m \u001b[49m\u001b[43mconn_port\u001b[49m\u001b[43m)\u001b[49m\u001b[43m)\u001b[49m\n\u001b[1;32m    198\u001b[0m \u001b[38;5;28mself\u001b[39m\u001b[38;5;241m.\u001b[39msocket\u001b[38;5;241m.\u001b[39msetsockopt(socket\u001b[38;5;241m.\u001b[39mSOL_TCP, socket\u001b[38;5;241m.\u001b[39mTCP_NODELAY, \u001b[38;5;241m1\u001b[39m)\n",
      "\u001b[0;31mtimeout\u001b[0m: timed out"
     ]
    }
   ],
   "source": [
    "# ps = create_fbp(bbbname='IA-11RaCtrl:CO-PSCtrl-SI4', device_id=1)  # SI-11C1:PS-CH\n",
    "# ps = create_fbp(bbbname='PA-RaPSB06:CO-PSCtrl-SI1', device_id=3)  # SI-Fam:PS-SDA1\n",
    "ps = create_fbp(bbbname='LA-RaCtrl:CO-PSCtrl-TB2', device_id=1)  # TB-01:PS-CH-1\n",
    "\n",
    "\n",
    "# ack, data = ps.remove_all_groups_of_variables(timeout=100)\n",
    "# print('cmd : ', 'remove_all')\n",
    "# print('ack : ', ack)\n",
    "# print('data: ', data)\n",
    "# print()\n",
    "\n",
    "# ack, data = ps.read_variable(0, timeout=100)\n",
    "# print('cmd : ', 'read_variable')\n",
    "# print('ack : ', ack)\n",
    "# print('data: ', data)\n",
    "# print()\n",
    "\n",
    "# ack, data = ps.read_group_of_variables(group_id=0, timeout=100)\n",
    "# print('cmd : ', 'read_group_of_variables')\n",
    "# print('ack : ', ack)\n",
    "# print('data: ', data)\n",
    "# print()\n",
    "\n",
    "# data = ps.parameter_read(eid=8)\n",
    "# print('cmd : ', 'parameter_read(eid=8)')\n",
    "# print('data: ', data)\n",
    "# print()\n",
    "\n",
    "# data = ps.parameter_read(eid=8, index=2)\n",
    "# print('cmd : ', 'parameter_read(eid=8, index=2)')\n",
    "# print('data: ', data)\n",
    "# print()\n",
    "\n",
    "# PS NAME\n",
    "\n",
    "# psnames = ps.parameter_read(eid=0)\n",
    "# print('cmd : ', 'parameter_read(eid=0)')\n",
    "# print('data: ', psnames)\n",
    "# print()\n",
    "\n",
    "# psnames2 = psnames.replace(' / ', ',')\n",
    "# ps.parameter_write(eid=0, value=psnames2)\n",
    "# print('cmd : ', 'parameter_write(eid=0, psnames2)')\n",
    "# print()\n",
    "\n",
    "# psnames3 = ps.parameter_read(eid=0)\n",
    "# print('cmd : ', 'parameter_read(eid=0)')\n",
    "# print('data: ', psnames3)\n",
    "# print()\n",
    "\n",
    "# ps.parameter_write(eid=0, value=psnames)\n",
    "# print('cmd : ', 'parameter_write(eid=0, psnames)')\n",
    "# print()\n",
    "\n",
    "# psnames = ps.parameter_read(eid=0)\n",
    "# print('cmd : ', 'parameter_read(eid=0)')\n",
    "# print('data: ', psnames)\n",
    "# print()"
   ]
  },
  {
   "cell_type": "code",
   "execution_count": null,
   "metadata": {},
   "outputs": [],
   "source": []
  }
 ],
 "metadata": {
  "kernelspec": {
   "display_name": "Python 3",
   "language": "python",
   "name": "python3"
  },
  "language_info": {
   "codemirror_mode": {
    "name": "ipython",
    "version": 3
   },
   "file_extension": ".py",
   "mimetype": "text/x-python",
   "name": "python",
   "nbconvert_exporter": "python",
   "pygments_lexer": "ipython3",
   "version": "3.9.2"
  }
 },
 "nbformat": 4,
 "nbformat_minor": 2
}
