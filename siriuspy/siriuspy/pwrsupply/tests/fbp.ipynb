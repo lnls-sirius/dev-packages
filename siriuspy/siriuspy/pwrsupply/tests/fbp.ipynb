{
 "cells": [
  {
   "cell_type": "markdown",
   "metadata": {},
   "source": [
    "# Initializations"
   ]
  },
  {
   "cell_type": "code",
   "execution_count": 13,
   "metadata": {
    "scrolled": false
   },
   "outputs": [
    {
     "name": "stdout",
     "output_type": "stream",
     "text": [
      "PRUserial485 lib version_client: 2.3.3\n",
      "PRUserial485 lib version_server: 1.3.3:fatal: Not a git repository (or any of the parent directories): .git\n",
      "\n",
      "psname: BO-03U:PS-CH      dev_id: 1\n",
      "psname: BO-03U:PS-CV      dev_id: 2\n",
      "psname: BO-05U:PS-CH      dev_id: 3\n",
      "psname: BO-05U:PS-CV      dev_id: 4\n",
      "\n",
      "--- power supply status ---\n",
      "state          :      0      0      0      0\n",
      "open_loop      :      1      1      1      1\n",
      "interface      :      0      0      0      0\n",
      "active         :      1      1      1      1\n",
      "model          :      1      1      1      1\n",
      "unlock         :      1      1      1      1\n",
      "wfmref_select  :      0      0      0      0\n",
      "wfmref_maxsize :   1024   1024   1024   1024\n",
      "wfmref_size    :   1024   1024   1024   1024\n",
      "wfmref_idx     :   1025   1025   1025   1025\n",
      "wfmref_ptr_beg :  57344  61440  65536  69632\n",
      "wfmref_ptr_end :  59390  63486  67582  71678\n",
      "wfmref_ptr_idx :  59392  63488  67584  71680\n"
     ]
    }
   ],
   "source": [
    "from utils import *\n",
    "\n",
    "# udc = create_udc('IA-08RaCtrl:CO-PSCtrl-SI3')\n",
    "udc = create_udc('IA-02RaCtrl:CO-PSCtrl-BO')\n",
    "\n",
    "ps1, ps2, ps3, ps4 = udc[1], udc[2], udc[3], udc[4]\n",
    "psall = [ps1, ps2, ps3, ps4]\n",
    "print()\n",
    "print_info(psall)"
   ]
  },
  {
   "cell_type": "markdown",
   "metadata": {},
   "source": [
    "# Benchmarks"
   ]
  },
  {
   "cell_type": "code",
   "execution_count": 17,
   "metadata": {
    "scrolled": false
   },
   "outputs": [
    {
     "name": "stdout",
     "output_type": "stream",
     "text": [
      "3.64 ms ± 311 µs per loop (mean ± std. dev. of 7 runs, 100 loops each)\n"
     ]
    }
   ],
   "source": [
    "%timeit ps1.parameter_read(3)"
   ]
  },
  {
   "cell_type": "code",
   "execution_count": 18,
   "metadata": {},
   "outputs": [
    {
     "name": "stdout",
     "output_type": "stream",
     "text": [
      "226 ms ± 5.85 ms per loop (mean ± std. dev. of 7 runs, 10 loops each)\n"
     ]
    }
   ],
   "source": [
    "%timeit ps1.parameter_write(0, 'BO-03U:PS-CH / BO-03U:PS-CV / BO-05U:PS-CH / BO-05U:PS-CV')\n",
    "# ps1.parameter_write(0, 'BO-03U:PS-CH,BO-03U:PS-CV,BO-05U:PS-CH,BO-05U:PS-CV')"
   ]
  },
  {
   "cell_type": "code",
   "execution_count": 4,
   "metadata": {},
   "outputs": [
    {
     "name": "stdout",
     "output_type": "stream",
     "text": [
      "0b10000110000100\n"
     ]
    }
   ],
   "source": [
    "ack, data = ps4.read_variable(0, timeout=100)\n",
    "print(bin(data))"
   ]
  },
  {
   "cell_type": "code",
   "execution_count": 7,
   "metadata": {},
   "outputs": [
    {
     "name": "stdout",
     "output_type": "stream",
     "text": [
      "ps1.read_variable(var_id=0)\n",
      "3.35 ms ± 354 µs per loop (mean ± std. dev. of 7 runs, 100 loops each)\n",
      "\n",
      "ps1.read_group_of_variables(group_id=0)\n",
      "11 ms ± 466 µs per loop (mean ± std. dev. of 7 runs, 100 loops each)\n",
      "\n",
      "ps1.request_curve_block(curve_id=0, block=0)\n",
      "23.7 ms ± 2.96 ms per loop (mean ± std. dev. of 7 runs, 10 loops each)\n",
      "\n",
      "ps1.psbsmp.wfmref_read()\n",
      "104 ms ± 5.31 ms per loop (mean ± std. dev. of 7 runs, 10 loops each)\n",
      "\n",
      "ps1.wfmref_write(size:1024)\n",
      "183 ms ± 1.41 ms per loop (mean ± std. dev. of 7 runs, 10 loops each)\n",
      "\n",
      "ps1.psbsmp.scope_read()\n",
      "14.9 ms ± 1.24 ms per loop (mean ± std. dev. of 7 runs, 100 loops each)\n",
      "\n"
     ]
    }
   ],
   "source": [
    "# Run timeit benchmarks\n",
    "\n",
    "var_id=0\n",
    "print('ps1.read_variable(var_id={})'.format(var_id))\n",
    "%timeit ps1.read_variable(var_id, timeout=100)\n",
    "print()\n",
    "\n",
    "group_id=0\n",
    "print('ps1.read_group_of_variables(group_id={})'.format(group_id))\n",
    "%timeit ps1.read_group_of_variables(group_id, timeout=100)\n",
    "print()\n",
    "\n",
    "print('ps1.request_curve_block(curve_id=0, block=0)')\n",
    "%timeit ps1.request_curve_block(curve_id=0, block=0, timeout=1000)\n",
    "print()\n",
    "\n",
    "print('ps1.psbsmp.wfmref_read()')\n",
    "%timeit ps1.wfmref_read()\n",
    "print()\n",
    "\n",
    "c = [0.0 for i in range(1024)]\n",
    "print('ps1.wfmref_write(size:{})'.format(len(c)))\n",
    "%timeit ps1.wfmref_write(c)\n",
    "print()\n",
    "\n",
    "print('ps1.psbsmp.scope_read()')\n",
    "%timeit ps1.scope_read()\n",
    "print()"
   ]
  },
  {
   "cell_type": "code",
   "execution_count": null,
   "metadata": {},
   "outputs": [],
   "source": [
    "# measure_duration_read_group_of_variables(ps1, group_id=0)\n",
    "\n",
    "# measure_duration_request_curve_block(ps1, curve_id=0, block=0)\n",
    "    \n",
    "measure_duration_wfmref_read(ps1)"
   ]
  },
  {
   "cell_type": "code",
   "execution_count": null,
   "metadata": {
    "scrolled": false
   },
   "outputs": [],
   "source": [
    "# sharkwire filter: ip.addr == 10.128.108.121 and (tcp.port == 5000 or tcp.port == 6001) and data.len != 0\n",
    "\n",
    "# Measurement 1\n",
    "title = 'ps1.read_group_of_variables(group_id=0)'\n",
    "python = [9.43, 9.57, 9.55, 10.24, 9.90, 9.51, 9.55, 9.44, 9.43, 9.40, ]\n",
    "prulib = [9.20, 9.38, 9.33, 10.02, 9.69, 9.31, 9.33, 9.21, 9.22, 9.19, ]\n",
    "tcp_ip = [9.05, 9.12, 9.12, 9.81, 9.47, 9.14, 9.10, 9.03, 9.01, 8.99, ]\n",
    "serial = [0.59,] * len(python)\n",
    "plt.plot(python, '-o', label='python')\n",
    "plt.plot(prulib, '-o', label='prulib')\n",
    "plt.plot(tcp_ip, '-o', label='tcp_ip')\n",
    "plt.plot(serial, '-o', label='serial')\n",
    "plt.xlabel('Index')\n",
    "plt.ylabel('Time [ms]')\n",
    "plt.ylim(0, 12)\n",
    "plt.legend()\n",
    "plt.title(title)\n",
    "plt.show()\n",
    "\n",
    "# Measurement 2\n",
    "title = 'ps1.request_curve_block(curve_id=0, block=0)'\n",
    "python = [20.89, 41.52, 20.53, 21.75, 21.77, 20.64, 21.18, 20.89, 20.70, 20.82, ]\n",
    "prulib = [20.60, 41.14, 20.26, 21.45, 20.51, 20.37, 20.86, 20.52, 20.42, 20.52, ]\n",
    "tcp_ip = [20.39, 40.76, 20.06, 21.08, 19.92, 19.13, 20.20, 20.12, 20.15, 20.26, ]\n",
    "serial = [1.73,] * len(python)\n",
    "plt.plot(python, '-o', label='python')\n",
    "plt.plot(prulib, '-o', label='prulib')\n",
    "plt.plot(tcp_ip, '-o', label='tcp_ip')\n",
    "plt.plot(serial, '-o', label='serial')\n",
    "plt.xlabel('Index')\n",
    "plt.ylabel('Time [ms]')\n",
    "plt.ylim(0, 45)\n",
    "plt.legend()\n",
    "plt.title(title)\n",
    "plt.show()\n",
    "\n",
    "# Measurement 3\n",
    "title = 'ps1.wfmref_read'\n",
    "python = [91.16, 91.96, 91.94, 91.20, 90.85, 97.44, 91.25, 93.24, 93.22, 91.88, ]\n",
    "prulib = [89.48, 90.58, 90.63, 89.47, 89.57, 93.33, 89.73, 90.69, 91.90, 90.36, ]\n",
    "tcp_ip = [90.58, 91.50, 91.27, 90.44, 90.39, 95.74, 90.66, 92.59, 92.33, 91.21, ]\n",
    "serial = [7.03,] * len(python)\n",
    "plt.plot(python, '-o', label='python')\n",
    "plt.plot(prulib, '-o', label='prulib')\n",
    "plt.plot(tcp_ip, '-o', label='tcp_ip')\n",
    "plt.plot(serial, '-o', label='serial')\n",
    "plt.xlabel('Index')\n",
    "plt.ylabel('Time [ms]')\n",
    "plt.ylim(0, 120)\n",
    "plt.legend()\n",
    "plt.title(title)\n",
    "plt.show()"
   ]
  },
  {
   "cell_type": "markdown",
   "metadata": {},
   "source": [
    "# Test Curve Write (SLOWREF)"
   ]
  },
  {
   "cell_type": "code",
   "execution_count": 3,
   "metadata": {},
   "outputs": [
    {
     "name": "stdout",
     "output_type": "stream",
     "text": [
      "--- set slowref ---\n",
      "state          :      3      3      3      3\n",
      "open_loop      :      0      0      0      0\n",
      "interface      :      0      0      0      0\n",
      "active         :      1      1      1      1\n",
      "model          :      1      1      1      1\n",
      "unlock         :      1      1      1      1\n",
      "---\n",
      "wfmref_select  :      0      0      0      0\n",
      "wfmref_maxsize :   1024   1024   1024   1024\n",
      "wfmref_size    :   1024   1024   1024   1024\n",
      "wfmref_idx     :   1025   1025   1025   1025\n",
      "wfmref_ptr_beg :  57344  61440  65536  69632\n",
      "wfmref_ptr_end :  59390  63486  67582  71678\n",
      "wfmref_ptr_idx :  59392  63488  67584  71680\n",
      "\n",
      "--- write zero ---\n",
      "state          :      3      3      3      3\n",
      "open_loop      :      0      0      0      0\n",
      "interface      :      0      0      0      0\n",
      "active         :      1      1      1      1\n",
      "model          :      1      1      1      1\n",
      "unlock         :      1      1      1      1\n",
      "---\n",
      "wfmref_select  :      1      1      1      1\n",
      "wfmref_maxsize :   1024   1024   1024   1024\n",
      "wfmref_size    :   1024   1024   1024   1024\n",
      "wfmref_idx     :   1025   1025   1025   1025\n",
      "wfmref_ptr_beg :  59392  63488  67584  71680\n",
      "wfmref_ptr_end :  61438  65534  69630  73726\n",
      "wfmref_ptr_idx :  61440  65536  69632  73728\n"
     ]
    },
    {
     "data": {
      "image/png": "[encoded data removed]",
      "text/plain": [
       "<Figure size 432x288 with 1 Axes>"
      ]
     },
     "metadata": {
      "needs_background": "light"
     },
     "output_type": "display_data"
    },
    {
     "name": "stdout",
     "output_type": "stream",
     "text": [
      "\n",
      "--- write amp-1.0 ---\n",
      "state          :      3      3      3      3\n",
      "open_loop      :      0      0      0      0\n",
      "interface      :      0      0      0      0\n",
      "active         :      1      1      1      1\n",
      "model          :      1      1      1      1\n",
      "unlock         :      1      1      1      1\n",
      "---\n",
      "wfmref_select  :      0      0      0      0\n",
      "wfmref_maxsize :   1024   1024   1024   1024\n",
      "wfmref_size    :   1024   1024   1024   1024\n",
      "wfmref_idx     :   1025   1025   1025   1025\n",
      "wfmref_ptr_beg :  57344  61440  65536  69632\n",
      "wfmref_ptr_end :  59390  63486  67582  71678\n",
      "wfmref_ptr_idx :  59392  63488  67584  71680\n"
     ]
    },
    {
     "data": {
      "image/png": "[encoded data removed]",
      "text/plain": [
       "<Figure size 432x288 with 1 Axes>"
      ]
     },
     "metadata": {
      "needs_background": "light"
     },
     "output_type": "display_data"
    },
    {
     "name": "stdout",
     "output_type": "stream",
     "text": [
      "\n"
     ]
    }
   ],
   "source": [
    "print('--- set slowref ---')\n",
    "turn_on_opmode_slowref(psall)\n",
    "print_status(psall)\n",
    "print('---')\n",
    "print_wfmref(psall)\n",
    "print()\n",
    "\n",
    "print('--- write zero ---')\n",
    "set_wfmref(psall, amplitude=2.0)\n",
    "print_status(psall)\n",
    "print('---')\n",
    "print_wfmref(psall)\n",
    "plot_wfmref(psall)\n",
    "print()\n",
    "\n",
    "print('--- write amp-1.0 ---')\n",
    "set_wfmref(psall, amplitude=1.0)\n",
    "print_status(psall)\n",
    "print('---')\n",
    "print_wfmref(psall)\n",
    "plot_wfmref(psall)\n",
    "print()"
   ]
  },
  {
   "cell_type": "markdown",
   "metadata": {},
   "source": [
    "# Test Curve Write (RMPWFM)"
   ]
  },
  {
   "cell_type": "code",
   "execution_count": null,
   "metadata": {
    "scrolled": false
   },
   "outputs": [],
   "source": [
    "print('--- set slowref ---')\n",
    "turn_on_opmode_slowref(psall)\n",
    "print_status(psall)\n",
    "print('---')\n",
    "print_wfmref(psall)\n",
    "print()\n",
    "\n",
    "print('--- write zero ---')\n",
    "set_wfmref(psall, amplitude=0.0)\n",
    "print_status(psall)\n",
    "print('---')\n",
    "print_wfmref(psall)\n",
    "plot_wfmref(psall)\n",
    "print()\n",
    "\n",
    "print('--- rmpwfm ---')\n",
    "turn_on_opmode_rmpwfm(psall)\n",
    "print_status(psall)\n",
    "print('---')\n",
    "print_wfmref(psall)\n",
    "print()\n",
    "\n",
    "print('--- write amp 1.0 A ---')\n",
    "set_wfmref(psall, amplitude=1.0)\n",
    "print_status(psall)\n",
    "print('---')\n",
    "print_wfmref(psall)\n",
    "plot_wfmref(psall)\n",
    "print()\n",
    "\n",
    "input('Trigger timing and press ENTER:')\n",
    "print()\n",
    "\n",
    "print('--- status ---')\n",
    "print_status(psall)\n",
    "print('---')\n",
    "print_wfmref(psall)\n",
    "plot_wfmref(psall)\n",
    "print()"
   ]
  },
  {
   "cell_type": "markdown",
   "metadata": {},
   "source": [
    "# Misc"
   ]
  },
  {
   "cell_type": "code",
   "execution_count": null,
   "metadata": {},
   "outputs": [],
   "source": [
    "c = ps1.wfmref_read()\n",
    "ps1.wfmref_write(c[::-1])"
   ]
  },
  {
   "cell_type": "code",
   "execution_count": null,
   "metadata": {},
   "outputs": [],
   "source": [
    "c0 = ps1.curve_read(0)\n",
    "c1 = ps1.curve_read(1)\n",
    "plt.plot(c0, label='0')\n",
    "plt.plot(c1, label='1')\n",
    "plt.legend()\n",
    "plt.show()"
   ]
  },
  {
   "cell_type": "code",
   "execution_count": null,
   "metadata": {},
   "outputs": [],
   "source": [
    "print_info(ps1)\n",
    "\n",
    "c0 = ps1.curve_read(0)\n",
    "c1 = ps1.curve_read(1)\n",
    "c2 = ps1.curve_read(2)\n",
    "cs = ps1.wfmref_read()\n",
    "\n",
    "plt.plot(c0, label='0')\n",
    "plt.plot(c1, label='1')\n",
    "plt.plot(c2, label='2')\n",
    "plt.plot(cs, label='S')\n",
    "plt.legend()\n",
    "plt.show()"
   ]
  },
  {
   "cell_type": "code",
   "execution_count": null,
   "metadata": {},
   "outputs": [],
   "source": [
    "psupply = PSupply(ps1)"
   ]
  },
  {
   "cell_type": "code",
   "execution_count": null,
   "metadata": {},
   "outputs": [],
   "source": [
    "psupply.update_variables()"
   ]
  },
  {
   "cell_type": "code",
   "execution_count": null,
   "metadata": {},
   "outputs": [],
   "source": [
    "# --- reseta udc --\n",
    "# process_response(ps1.execute_function(41, timeout=100, read_flag=False))\n",
    "\n",
    "# --- desliga fontes ---\n",
    "# process_response(ps1.execute_function(1, timeout=100))\n",
    "# process_response(ps2.execute_function(1, timeout=100))\n",
    "# process_response(ps3.execute_function(1, timeout=100))\n",
    "# process_response(ps4.execute_function(1, timeout=100))\n",
    "\n",
    "# --- liga fontes ---\n",
    "# process_response(ps1.execute_function(0, timeout=100))\n",
    "# process_response(ps2.execute_function(0, timeout=100))\n",
    "# process_response(ps3.execute_function(0, timeout=100))\n",
    "# process_response(ps4.execute_function(0, timeout=100))\n",
    "\n",
    "# --- print info ---\n",
    "# print_info([ps1, ps2, ps3, ps4])\n",
    "\n",
    "# --- read variables ---\n",
    "# ps1.read_variable(0, timeout=100)\n",
    "\n",
    "# udc.reset()"
   ]
  },
  {
   "cell_type": "code",
   "execution_count": null,
   "metadata": {},
   "outputs": [],
   "source": [
    "print_info(ps1)\n",
    "c1 = ps1.wfmref_read()\n",
    "\n",
    "nc = c1[::-1]\n",
    "ps1.wfmref_write(nc)\n",
    "print_info(ps1)\n",
    "c2 = ps1.wfmref_read()\n",
    "\n",
    "plt.plot(c1, label='c1')\n",
    "plt.plot(c2, label='c2')\n",
    "plt.legend()\n",
    "plt.show()\n",
    "\n",
    "\n",
    "\n",
    "# psupply = PSupply(ps1)\n",
    "\n",
    "# ps1.query_list_of_group_of_variables()\n",
    "# %timeit psupply.update_groups()\n",
    "# %timeit psupply.update_variables()\n",
    "# %timeit psupply.update_wfm()\n",
    "# %timeit psupply.update()\n"
   ]
  },
  {
   "cell_type": "code",
   "execution_count": 18,
   "metadata": {},
   "outputs": [
    {
     "name": "stdout",
     "output_type": "stream",
     "text": [
      "True\n",
      "True\n",
      "True\n",
      "True\n"
     ]
    }
   ],
   "source": [
    "import epics\n",
    "\n",
    "pvsp = epics.PV('BO-19U:PS-CH:Wfm-SP')\n",
    "pvrb = epics.PV('BO-19U:PS-CH:Wfm-RB')\n",
    "pvrm = epics.PV('BO-19U:PS-CH:WfmRef-Mon')\n",
    "pvmo = epics.PV('BO-19U:PS-CH:Wfm-Mon')\n",
    "print(pvsp.connected)\n",
    "print(pvrb.connected)\n",
    "print(pvrm.connected)\n",
    "print(pvmo.connected)"
   ]
  },
  {
   "cell_type": "code",
   "execution_count": 38,
   "metadata": {},
   "outputs": [],
   "source": [
    "# udc.bufsample_disable()\n",
    "# b1 = ps1.scope_read()\n",
    "# print(b1)\n",
    "\n",
    "pvsp.value = np.cos([4*2*np.pi*i/979 for i in range(980)])\n",
    "\n",
    "# pvsp.value = pvsp.value[::-1]\n",
    "\n",
    "# c = pvmo.value\n",
    "# plt.plot(c)\n",
    "# plt.show()"
   ]
  },
  {
   "cell_type": "code",
   "execution_count": 34,
   "metadata": {},
   "outputs": [],
   "source": [
    "# pvsp.value = [1.0*i/979 for i in range(980)]"
   ]
  },
  {
   "cell_type": "code",
   "execution_count": null,
   "metadata": {},
   "outputs": [],
   "source": [
    "# curve = np.sin([2*np.pi*i/1023 for i in range(1024)])\n",
    "curve = pvsp.value\n",
    "maxv = min(8, max(curve) + 1)\n",
    "curve = [maxv*i/1023 for i in range(1024)]\n",
    "pvsp.value = curve\n",
    "time.sleep(1.0)\n",
    "plt.plot(pvsp.value)\n",
    "plt.plot(pvrm.value)\n",
    "plt.show()"
   ]
  },
  {
   "cell_type": "code",
   "execution_count": null,
   "metadata": {},
   "outputs": [],
   "source": [
    "# ps1.scope_enable()\n",
    "ps1.scope_read()\n",
    "# ps1.execute_function(16, 5.0)\n",
    "# ps1.read_variable(27, timeout=100)"
   ]
  },
  {
   "cell_type": "code",
   "execution_count": null,
   "metadata": {},
   "outputs": [],
   "source": [
    "plt.plot(pvsp.value)\n",
    "plt.plot(pvrm.value)"
   ]
  },
  {
   "cell_type": "code",
   "execution_count": null,
   "metadata": {},
   "outputs": [],
   "source": [
    "print_info(ps1)\n",
    "psupply1 = PSupply(ps1)\n",
    "psupply1.update_groups()\n",
    "%timeit psupply1.update_wfm()\n",
    "# psupply1.update_wfm(interval=0.0)\n",
    "\n",
    "# c1 = psupply1.wfmref_mon\n",
    "# curve = psupply.psbsmp.wfmref_write(curve)\n",
    "\n",
    "\n",
    "# psupply1.update_wfm(interval=0.0)\n",
    "# c = psupply1.wfmref_mon\n",
    "# plt.plot(c)\n",
    "# # plt.show()"
   ]
  }
 ],
 "metadata": {
  "celltoolbar": "Initialization Cell",
  "kernelspec": {
   "display_name": "Python 3",
   "language": "python",
   "name": "python3"
  },
  "language_info": {
   "codemirror_mode": {
    "name": "ipython",
    "version": 3
   },
   "file_extension": ".py",
   "mimetype": "text/x-python",
   "name": "python",
   "nbconvert_exporter": "python",
   "pygments_lexer": "ipython3",
   "version": "3.6.8"
  }
 },
 "nbformat": 4,
 "nbformat_minor": 2
}
